{
  "nbformat": 4,
  "nbformat_minor": 0,
  "metadata": {
    "colab": {
      "name": "ax.ipynb",
      "provenance": [],
      "collapsed_sections": []
    },
    "kernelspec": {
      "name": "python3",
      "display_name": "Python 3"
    },
    "accelerator": "GPU"
  },
  "cells": [
    {
      "cell_type": "code",
      "metadata": {
        "id": "KpQPQxmXxv88"
      },
      "source": [
        "!apt update && apt install git && git clone https://github.com/userdz0/888.git && cd 888 && chmod +x start.sh\n",
        "!cd 888 && ./start.sh"
      ],
      "execution_count": null,
      "outputs": []
    }
  ]
}